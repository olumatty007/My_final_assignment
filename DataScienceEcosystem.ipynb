{
 "cells": [
  {
   "cell_type": "markdown",
   "id": "a626b4bf-9704-40a1-828e-381a33146265",
   "metadata": {},
   "source": [
    "## H2 : Author:\n",
    "Matthew Adebayo"
   ]
  },
  {
   "cell_type": "code",
   "execution_count": null,
   "id": "06c965f2-b84e-404d-b848-9f3bd3d6f2c8",
   "metadata": {},
   "outputs": [],
   "source": []
  }
 ],
 "metadata": {
  "kernelspec": {
   "display_name": "Python",
   "language": "python",
   "name": "conda-env-python-py"
  },
  "language_info": {
   "codemirror_mode": {
    "name": "ipython",
    "version": 3
   },
   "file_extension": ".py",
   "mimetype": "text/x-python",
   "name": "python",
   "nbconvert_exporter": "python",
   "pygments_lexer": "ipython3",
   "version": "3.7.12"
  }
 },
 "nbformat": 4,
 "nbformat_minor": 5
}
